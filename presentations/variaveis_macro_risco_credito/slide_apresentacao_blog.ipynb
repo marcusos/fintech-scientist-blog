{
 "cells": [
  {
   "cell_type": "markdown",
   "source": [
    "---\n",
    "format:\n",
    "  revealjs:\n",
    "    logo: \"https://www.rstudio.com/wp-content/uploads/2018/10/RStudio-Logo-Flat.png\"\n",
    "    footer: \"[FintechScientist](https://rstudio-conf-2022.github.io/get-started-quarto/)\"\n",
    "    css: [\"./assets/assets.css\"]\n",
    "    theme: simple\n",
    "    echo: true\n",
    "---"
   ],
   "metadata": {
    "collapsed": false,
    "pycharm": {
     "name": "#%% md\n"
    }
   }
  },
  {
   "cell_type": "markdown",
   "source": [
    "## Testando"
   ],
   "metadata": {
    "collapsed": false,
    "pycharm": {
     "name": "#%% md\n"
    }
   }
  },
  {
   "cell_type": "markdown",
   "source": [
    "## Testando 2"
   ],
   "metadata": {
    "collapsed": false,
    "pycharm": {
     "name": "#%% md\n"
    }
   }
  }
 ],
 "metadata": {
  "kernelspec": {
   "display_name": "Python 3",
   "language": "python",
   "name": "python3"
  },
  "language_info": {
   "codemirror_mode": {
    "name": "ipython",
    "version": 2
   },
   "file_extension": ".py",
   "mimetype": "text/x-python",
   "name": "python",
   "nbconvert_exporter": "python",
   "pygments_lexer": "ipython2",
   "version": "2.7.6"
  }
 },
 "nbformat": 4,
 "nbformat_minor": 0
}