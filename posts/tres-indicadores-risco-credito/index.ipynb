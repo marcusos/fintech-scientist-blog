{
 "cells": [
  {
   "cell_type": "markdown",
   "source": [
    "---\n",
    "title: \"Meu Primeiro Post\"\n",
    "author: \"Marcus O. da Silva\"\n",
    "date: \"11/28/2022\"\n",
    "format:\n",
    "    html:\n",
    "        code-fold: true\n",
    "jupyter: python3\n",
    "---"
   ],
   "metadata": {
    "collapsed": false,
    "pycharm": {
     "name": "#%% md\n"
    }
   }
  },
  {
   "cell_type": "markdown",
   "source": [
    "\n",
    "Lorem ipsum dolor sit amet, consectetur adipiscing elit. Donec pharetra non diam eu tempor. Aliquam consequat ante nulla, maximus volutpat est malesuada vel. Mauris pretium, tellus eget faucibus ornare, diam justo viverra dolor, id iaculis purus urna dapibus sapien. Aliquam euismod egestas blandit. Ut cursus ullamcorper nisi vel blandit. Integer sit amet nisl odio. Cras vel sem quis lectus vestibulum scelerisque eget eget dolor. Nam vel dignissim dui, eget tincidunt eros. Vestibulum eget laoreet lectus. Ut euismod, tortor vel vestibulum fermentum, quam tellus scelerisque tellus, eget aliquet tortor est nec justo. Morbi eu diam ut nunc ultricies aliquet. Ut ligula orci, tincidunt ac augue ut, gravida gravida massa. Pellentesque id sapien efficitur, molestie augue a, pretium urna.\n",
    "\n",
    "### Meu Primeiro Post\n",
    "\n",
    "Integer egestas, orci eu malesuada aliquam, urna magna iaculis risus, id mattis purus libero at magna. Sed rhoncus dolor ultrices quam tempus congue. Suspendisse accumsan ex quis dolor tincidunt molestie. Praesent congue augue eu ultricies imperdiet. Proin dictum metus quis tellus lacinia, et dapibus lorem tempus. Ut quis dignissim metus. Ut sollicitudin blandit leo egestas ornare. Fusce et sodales enim, eu bibendum erat. Sed condimentum dolor eu convallis blandit. Pellentesque quam elit, semper ac gravida at, hendrerit maximus velit. Morbi vestibulum, justo sed rhoncus bibendum, odio ex venenatis metus, at vestibulum enim mauris vel nibh. Phasellus at ante eu orci mollis condimentum vitae quis velit. Vestibulum eget nisi consectetur, egestas enim sit amet, cursus felis. Sed nibh odio, varius a lectus ut, scelerisque auctor orci."
   ],
   "metadata": {
    "collapsed": false,
    "pycharm": {
     "name": "#%% md\n"
    }
   },
   "outputs": [
    {
     "ename": "SyntaxError",
     "evalue": "invalid syntax (4225157871.py, line 3)",
     "output_type": "error",
     "traceback": [
      "\u001B[0;36m  Input \u001B[0;32mIn [1]\u001B[0;36m\u001B[0m\n\u001B[0;31m    Lorem ipsum dolor sit amet, consectetur adipiscing elit. Donec pharetra non diam eu tempor. Aliquam consequat ante nulla, maximus volutpat est malesuada vel. Mauris pretium, tellus eget faucibus ornare, diam justo viverra dolor, id iaculis purus urna dapibus sapien. Aliquam euismod egestas blandit. Ut cursus ullamcorper nisi vel blandit. Integer sit amet nisl odio. Cras vel sem quis lectus vestibulum scelerisque eget eget dolor. Nam vel dignissim dui, eget tincidunt eros. Vestibulum eget laoreet lectus. Ut euismod, tortor vel vestibulum fermentum, quam tellus scelerisque tellus, eget aliquet tortor est nec justo. Morbi eu diam ut nunc ultricies aliquet. Ut ligula orci, tincidunt ac augue ut, gravida gravida massa. Pellentesque id sapien efficitur, molestie augue a, pretium urna.\u001B[0m\n\u001B[0m          ^\u001B[0m\n\u001B[0;31mSyntaxError\u001B[0m\u001B[0;31m:\u001B[0m invalid syntax\n"
     ]
    }
   ],
   "execution_count": 1
  }
 ],
 "metadata": {
  "kernelspec": {
   "display_name": "Python 3",
   "language": "python",
   "name": "python3"
  },
  "language_info": {
   "codemirror_mode": {
    "name": "ipython",
    "version": 2
   },
   "file_extension": ".py",
   "mimetype": "text/x-python",
   "name": "python",
   "nbconvert_exporter": "python",
   "pygments_lexer": "ipython2",
   "version": "2.7.6"
  }
 },
 "nbformat": 4,
 "nbformat_minor": 0
}