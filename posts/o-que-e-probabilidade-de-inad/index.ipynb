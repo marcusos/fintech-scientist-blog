{
 "cells": [
  {
   "cell_type": "markdown",
   "source": [
    "---\n",
    "title: \"O que é a Probabilidade de Inadimplência (PD)?\"\n",
    "author: \"Marcus O. da Silva\"\n",
    "date: \"12/11/2022\"\n",
    "format:\n",
    "    html:\n",
    "        code-fold: true\n",
    "categories: [Modelagem de Crédito, Teoria]\n",
    "jupyter: python3\n",
    "---\n",
    "\n"
   ],
   "metadata": {
    "collapsed": false,
    "pycharm": {
     "name": "#%% md\n"
    }
   }
  },
  {
   "cell_type": "markdown",
   "source": [
    "A probabilidade de inadimplência (*probability of default* ou PD) é um conceito importante em modelagem de risco de crédito. É a probabilidade de que um tomador de empréstimo não consiga honrar seu empréstimo. Em outras palavras, é a probabilidade de que o tomador de empréstimo não consiga fazer os pagamentos necessários em seu empréstimo.\n",
    "\n",
    "A PD é uma medida importante para bancos e outros credores, pois ajuda a avaliar o risco de emprestar dinheiro a um determinado tomador de empréstimo. Uma PD mais alta indica um risco maior de inadimplência e, portanto, uma maior probabilidade de que o credor não possa recuperar o valor total de seu empréstimo. Como resultado, os credores geralmente exigem taxas de juros mais altas ou mais garantias de empréstimos com uma PD mais alta. Um novo pedido pode ser negado dependendo de quão alta é a PD desse pedido."
   ],
   "metadata": {
    "collapsed": false,
    "pycharm": {
     "name": "#%% md\n"
    }
   }
  },
  {
   "cell_type": "markdown",
   "source": [
    "![](h_default_h_rate.png)"
   ],
   "metadata": {
    "collapsed": false,
    "pycharm": {
     "name": "#%% md\n"
    }
   }
  },
  {
   "cell_type": "markdown",
   "source": [
    "A PD é geralmente estimada usando modelos estatísticos que incorporam uma variedade de fatores, como o score de crédito do tomador de empréstimo, renda e a relação dívida/renda. Esses modelos são projetados para prever a probabilidade de inadimplência com base em dados históricos, perfil do tomador e outras informações relevantes. O código abaixo ilustra em python como é a criação de um modelo de PD."
   ],
   "metadata": {
    "collapsed": false,
    "pycharm": {
     "name": "#%% md\n"
    }
   }
  },
  {
   "cell_type": "code",
   "execution_count": null,
   "outputs": [],
   "source": [
    "#| code-fold: false\n",
    "#| echo: true\n",
    "\n",
    "# Import the LogisticRegression class from the sklearn library\n",
    "from sklearn.linear_model import LogisticRegression\n",
    "import pandas as pd\n",
    "\n",
    "# Read the data\n",
    "df = pd.read_csv('<path_to_default_dataset>')\n",
    "\n",
    "# Define the features of the dataset\n",
    "features = [\"income\", \"age\", \"payment_delays\", \"credit_score\"]\n",
    "label = 'default'\n",
    "\n",
    "# Define the input and the label\n",
    "X = df[features]\n",
    "y = df[label]\n",
    "\n",
    "# Create a logistic regression model\n",
    "model = LogisticRegression()\n",
    "\n",
    "# Train the model on our sample dataset\n",
    "model.fit(X, y)\n",
    "\n",
    "# Use the model to predict the probability of default for new data\n",
    "predictions = model.predict_proba(X_new)"
   ],
   "metadata": {
    "collapsed": false,
    "pycharm": {
     "name": "#%%\n",
     "is_executing": true
    }
   }
  },
  {
   "cell_type": "markdown",
   "source": [
    "Em geral, a probabilidade de inadimplência é uma medida crucial na modelagem de risco de crédito que ajuda os credores a avaliar o risco associado a emprestar dinheiro a um determinado tomador de empréstimo. A forma mais comum de resolver esse tipo de problema é atráves de algum algóritmo de classificação como a regressão logística."
   ],
   "metadata": {
    "collapsed": false,
    "pycharm": {
     "name": "#%% md\n"
    }
   }
  }
 ],
 "metadata": {
  "kernelspec": {
   "display_name": "Python 3",
   "language": "python",
   "name": "python3"
  },
  "language_info": {
   "codemirror_mode": {
    "name": "ipython",
    "version": 2
   },
   "file_extension": ".py",
   "mimetype": "text/x-python",
   "name": "python",
   "nbconvert_exporter": "python",
   "pygments_lexer": "ipython2",
   "version": "2.7.6"
  }
 },
 "nbformat": 4,
 "nbformat_minor": 0
}